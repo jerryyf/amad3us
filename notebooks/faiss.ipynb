{
 "cells": [
  {
   "cell_type": "code",
   "execution_count": null,
   "id": "50e03ba5",
   "metadata": {},
   "outputs": [],
   "source": [
    "from langchain_ollama import OllamaEmbeddings\n",
    "\n",
    "embeddings = OllamaEmbeddings(model=\"llama3.2\")"
   ]
  },
  {
   "cell_type": "code",
   "execution_count": null,
   "id": "904be7bf",
   "metadata": {},
   "outputs": [],
   "source": [
    "import faiss\n",
    "from langchain_community.docstore.in_memory import InMemoryDocstore\n",
    "from langchain_community.vectorstores import FAISS\n",
    "\n",
    "index = faiss.IndexFlatL2(len(embeddings.embed_query(\"hello world\")))\n",
    "\n",
    "vector_store = FAISS(\n",
    "    embedding_function=embeddings,\n",
    "    index=index,\n",
    "    docstore=InMemoryDocstore(),\n",
    "    index_to_docstore_id={},\n",
    ")"
   ]
  },
  {
   "cell_type": "code",
   "execution_count": null,
   "id": "1f9f5d4e",
   "metadata": {},
   "outputs": [],
   "source": [
    "from uuid import uuid4\n",
    "\n",
    "from langchain_core.documents import Document\n",
    "from langchain_community.document_loaders import TelegramChatLoader\n",
    "\n",
    "loader = TelegramChatLoader(\"./data/tg_chat.json\")\n",
    "\n",
    "documents = loader.load()\n",
    "\n",
    "uuids = [str(uuid4()) for _ in range(len(documents))]"
   ]
  },
  {
   "cell_type": "code",
   "execution_count": null,
   "id": "78ad692b",
   "metadata": {},
   "outputs": [],
   "source": [
    "from langchain_text_splitters import RecursiveCharacterTextSplitter\n",
    "\n",
    "text_splitter = RecursiveCharacterTextSplitter(chunk_size=1000, chunk_overlap=200)\n",
    "all_splits = text_splitter.split_documents(documents)\n",
    "\n",
    "print(f\"Split into {len(all_splits)} sub-documents.\")\n",
    "\n",
    "trimmed = all_splits[:10]\n",
    "print(trimmed)\n",
    "print(f\"Trimmed into {len(trimmed)} sub-documents.\")\n",
    "uuids = [str(uuid4()) for _ in range(len(trimmed))]\n"
   ]
  },
  {
   "cell_type": "code",
   "execution_count": null,
   "id": "d2c0ddfc",
   "metadata": {},
   "outputs": [],
   "source": [
    "# may take a while\n",
    "vector_store.add_documents(documents=trimmed, ids=uuids)"
   ]
  },
  {
   "cell_type": "code",
   "execution_count": null,
   "id": "5711fe38",
   "metadata": {},
   "outputs": [],
   "source": [
    "results = vector_store.similarity_search(\n",
    "    \"hungry\",\n",
    "    k=2,\n",
    ")\n",
    "for res in results:\n",
    "    print(f\"* {res.page_content} [{res.metadata}]\")"
   ]
  },
  {
   "cell_type": "code",
   "execution_count": null,
   "id": "eeb4747b",
   "metadata": {},
   "outputs": [],
   "source": [
    "results = vector_store.similarity_search(\n",
    "    \"travel\",\n",
    "    k=2,\n",
    "    filter={\"source\": {\"$eq\": \"data/tg_chat.json\"}},\n",
    ")\n",
    "for res in results:\n",
    "    print(f\"* {res.page_content} [{res.metadata}]\")"
   ]
  },
  {
   "cell_type": "code",
   "execution_count": null,
   "id": "1bf40495",
   "metadata": {},
   "outputs": [],
   "source": [
    "retriever = vector_store.as_retriever(search_type=\"mmr\", search_kwargs={\"k\": 1})\n",
    "retriever.invoke(\"weather\", filter={\"source\": \"data/tg_chat.json\"})"
   ]
  },
  {
   "cell_type": "code",
   "execution_count": null,
   "id": "3e7130e8",
   "metadata": {},
   "outputs": [],
   "source": [
    "vector_store.save_local(\"faiss_index\")\n",
    "\n",
    "new_vector_store = FAISS.load_local(\n",
    "    \"faiss_index\", embeddings, allow_dangerous_deserialization=True\n",
    ")\n",
    "\n",
    "docs = new_vector_store.similarity_search(\"capital letters\")"
   ]
  },
  {
   "cell_type": "code",
   "execution_count": null,
   "id": "3a84db0c",
   "metadata": {},
   "outputs": [],
   "source": [
    "len(docs)\n",
    "print(docs)"
   ]
  }
 ],
 "metadata": {
  "kernelspec": {
   "display_name": ".venv",
   "language": "python",
   "name": "python3"
  },
  "language_info": {
   "codemirror_mode": {
    "name": "ipython",
    "version": 3
   },
   "file_extension": ".py",
   "mimetype": "text/x-python",
   "name": "python",
   "nbconvert_exporter": "python",
   "pygments_lexer": "ipython3",
   "version": "3.11.2"
  }
 },
 "nbformat": 4,
 "nbformat_minor": 5
}
